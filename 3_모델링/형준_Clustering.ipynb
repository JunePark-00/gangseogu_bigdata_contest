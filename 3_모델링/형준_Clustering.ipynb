{
 "cells": [
  {
   "cell_type": "code",
   "execution_count": 16,
   "id": "88e2c852",
   "metadata": {},
   "outputs": [],
   "source": [
    "import pandas as pd\n",
    "import numpy as np\n",
    "\n",
    "import matplotlib.pyplot as plt\n",
    "import seaborn as sns\n",
    "\n",
    "from sklearn.cluster import KMeans\n",
    "from sklearn.preprocessing import MinMaxScaler\n",
    "\n",
    "import warnings\n",
    "warnings.filterwarnings('ignore')\n",
    "\n",
    "pd.set_option('display.max_columns', None)\n",
    "\n",
    "plt.rcParams['font.family'] = 'Malgun Gothic'\n",
    "import matplotlib\n",
    "matplotlib.rcParams['axes.unicode_minus'] = False"
   ]
  },
  {
   "cell_type": "code",
   "execution_count": 17,
   "id": "0a693316",
   "metadata": {},
   "outputs": [],
   "source": [
    "df_gu = pd.read_csv('df_gu_final.csv')\n",
    "df_dong = pd.read_csv('df_dong_final.csv')"
   ]
  },
  {
   "cell_type": "code",
   "execution_count": 18,
   "id": "f2efc78e",
   "metadata": {},
   "outputs": [
    {
     "name": "stdout",
     "output_type": "stream",
     "text": [
      "<class 'pandas.core.frame.DataFrame'>\n",
      "RangeIndex: 25 entries, 0 to 24\n",
      "Data columns (total 63 columns):\n",
      " #   Column          Non-Null Count  Dtype  \n",
      "---  ------          --------------  -----  \n",
      " 0   자치구             25 non-null     object \n",
      " 1   단속건수            25 non-null     float64\n",
      " 2   총 세대수           25 non-null     float64\n",
      " 3   총 인구수           25 non-null     float64\n",
      " 4   세대당인구           25 non-null     float64\n",
      " 5   총 예산            25 non-null     float64\n",
      " 6   주차장사업비          25 non-null     float64\n",
      " 7   순이동             25 non-null     float64\n",
      " 8   총상주인구(명)        25 non-null     float64\n",
      " 9   총유입인구(명)        25 non-null     float64\n",
      " 10  통근_유입인구(명)      25 non-null     float64\n",
      " 11  통학_유입인구(명)      25 non-null     float64\n",
      " 12  총유출인구(명)        25 non-null     float64\n",
      " 13  통근_유출인구(명)      25 non-null     float64\n",
      " 14  통학_유출인구(명)      25 non-null     float64\n",
      " 15  총주간인구(명)        25 non-null     float64\n",
      " 16  주간인구지수(%)       25 non-null     float64\n",
      " 17  총상권개수           25 non-null     float64\n",
      " 18  외식업             25 non-null     float64\n",
      " 19  서비스업            25 non-null     float64\n",
      " 20  도소매업            25 non-null     float64\n",
      " 21  총 자동차 합계        25 non-null     int64  \n",
      " 22  관용 합계           25 non-null     int64  \n",
      " 23  자가용 합계          25 non-null     int64  \n",
      " 24  영업용 합계          25 non-null     int64  \n",
      " 25  승용차 합계          25 non-null     int64  \n",
      " 26  승용차 관용          25 non-null     int64  \n",
      " 27  승용차 자가용         25 non-null     int64  \n",
      " 28  승용차 영업용         25 non-null     int64  \n",
      " 29  승합차 합계          25 non-null     int64  \n",
      " 30  승합차 관용          25 non-null     int64  \n",
      " 31  승합차 자가용         25 non-null     int64  \n",
      " 32  승합차 영업용         25 non-null     int64  \n",
      " 33  화물차 합계          25 non-null     int64  \n",
      " 34  화물차 관용          25 non-null     int64  \n",
      " 35  화물차 자가용         25 non-null     int64  \n",
      " 36  화물차 영업용         25 non-null     int64  \n",
      " 37  특수차 합계          25 non-null     int64  \n",
      " 38  특수차 관용          25 non-null     int64  \n",
      " 39  특수차 자가용         25 non-null     int64  \n",
      " 40  특수차 영업용         25 non-null     int64  \n",
      " 41  이륜차 합계          25 non-null     int64  \n",
      " 42  이륜차 관용          25 non-null     int64  \n",
      " 43  이륜차 자가용         25 non-null     int64  \n",
      " 44  이륜차 영업용         25 non-null     int64  \n",
      " 45  자동차 등록 대수       25 non-null     int64  \n",
      " 46  주차 면수           25 non-null     int64  \n",
      " 47  주차장 확보율         25 non-null     float64\n",
      " 48  자동차등록대수(증감)     25 non-null     float64\n",
      " 49  주차면수(증감)        25 non-null     float64\n",
      " 50  주차장확보율(증감)      25 non-null     float64\n",
      " 51  자가용 승용차 합계      25 non-null     int64  \n",
      " 52  주택가 주차장 합계      25 non-null     int64  \n",
      " 53  주택가 주차장 노상      25 non-null     int64  \n",
      " 54  주택가 주차장 노외      25 non-null     int64  \n",
      " 55  주택가 주차장 건축물 부설  25 non-null     int64  \n",
      " 56  주택가 주차장 확보율     25 non-null     float64\n",
      " 57  2017 단속건수       25 non-null     int64  \n",
      " 58  2018 단속건수       25 non-null     int64  \n",
      " 59  2019 단속건수       25 non-null     int64  \n",
      " 60  2020 단속건수       25 non-null     int64  \n",
      " 61  2021 단속건수       25 non-null     int64  \n",
      " 62  2022 단속건수       25 non-null     int64  \n",
      "dtypes: float64(25), int64(37), object(1)\n",
      "memory usage: 12.4+ KB\n"
     ]
    }
   ],
   "source": [
    "df_gu.info()"
   ]
  },
  {
   "cell_type": "code",
   "execution_count": 19,
   "id": "aeab02b8",
   "metadata": {},
   "outputs": [
    {
     "name": "stdout",
     "output_type": "stream",
     "text": [
      "<class 'pandas.core.frame.DataFrame'>\n",
      "RangeIndex: 20 entries, 0 to 19\n",
      "Data columns (total 64 columns):\n",
      " #   Column                   Non-Null Count  Dtype \n",
      "---  ------                   --------------  ----- \n",
      " 0   행정동                      20 non-null     object\n",
      " 1   승차총승객수                   20 non-null     int64 \n",
      " 2   하차총승객수                   20 non-null     int64 \n",
      " 3   순이동                      20 non-null     int64 \n",
      " 4   사업체수                     20 non-null     int64 \n",
      " 5   종사자수                     20 non-null     int64 \n",
      " 6   농업 임업 및 어업               20 non-null     int64 \n",
      " 7   제조업                      20 non-null     int64 \n",
      " 8   전기 가스 증기 및 공기조절 공급업      20 non-null     int64 \n",
      " 9   수도 하수 및 폐기물 처리 원료 재생업    20 non-null     int64 \n",
      " 10  건설업                      20 non-null     int64 \n",
      " 11  도매 및 소매업                 20 non-null     int64 \n",
      " 12  운수 및 창고업                 20 non-null     int64 \n",
      " 13  숙박 및 음식점업                20 non-null     int64 \n",
      " 14  정보통신업                    20 non-null     int64 \n",
      " 15  금융 및 보험업                 20 non-null     int64 \n",
      " 16  부동산업                     20 non-null     int64 \n",
      " 17  전문 과학 및 기술 서비스업          20 non-null     int64 \n",
      " 18  사업시설 관리 사업 지원 및 임대 서비스업  20 non-null     int64 \n",
      " 19  공공행정 국방 및 사회보장 행정        20 non-null     int64 \n",
      " 20  교육 서비스업                  20 non-null     int64 \n",
      " 21  보건업 및 사회복지 서비스업          20 non-null     int64 \n",
      " 22  예술 스포츠 및 여가관련 서비스업       20 non-null     int64 \n",
      " 23  협회 및 단체 수리 및 기타 개인 서비스업  20 non-null     int64 \n",
      " 24  택시운송업                    20 non-null     int64 \n",
      " 25  버스승차총승객수                 20 non-null     int64 \n",
      " 26  버스하차총승객수                 20 non-null     int64 \n",
      " 27  총상권개수                    20 non-null     int64 \n",
      " 28  주차장 개수                   20 non-null     int64 \n",
      " 29  주차장 면수                   20 non-null     int64 \n",
      " 30  공영 개수                    20 non-null     int64 \n",
      " 31  공영 면수                    20 non-null     int64 \n",
      " 32  민영 개수                    20 non-null     int64 \n",
      " 33  민영 면수                    20 non-null     int64 \n",
      " 34  노상 개수                    20 non-null     int64 \n",
      " 35  노상 면수                    20 non-null     int64 \n",
      " 36  노상 시영 개수                 20 non-null     int64 \n",
      " 37  노상 시영 면수                 20 non-null     int64 \n",
      " 38  노상 구영 개수                 20 non-null     int64 \n",
      " 39  노상 구영 면수                 20 non-null     int64 \n",
      " 40  노외 개수                    20 non-null     int64 \n",
      " 41  노외 면수                    20 non-null     int64 \n",
      " 42  노외 시영 개수                 20 non-null     int64 \n",
      " 43  노외 시영 면수                 20 non-null     int64 \n",
      " 44  노외 구영 개수                 20 non-null     int64 \n",
      " 45  노외 구영 면수                 20 non-null     int64 \n",
      " 46  노외 민영 개수                 20 non-null     int64 \n",
      " 47  노외 민영 면수                 20 non-null     int64 \n",
      " 48  건축물부설 개수                 20 non-null     int64 \n",
      " 49  건축물부설 면수                 20 non-null     int64 \n",
      " 50  건축물부설 일반주택 개수            20 non-null     int64 \n",
      " 51  건축물부설 일반주택 면수            20 non-null     int64 \n",
      " 52  건축물부설 공동주택 개수            20 non-null     int64 \n",
      " 53  건축물부설 공동주택 면수            20 non-null     int64 \n",
      " 54  건축물부설 일반건축물 개수           20 non-null     int64 \n",
      " 55  건축물부설 일반건축물 면수           20 non-null     int64 \n",
      " 56  공영주차장 수                  20 non-null     int64 \n",
      " 57  공영주차장 총 주차면              20 non-null     int64 \n",
      " 58  승용                       20 non-null     int64 \n",
      " 59  승합                       20 non-null     int64 \n",
      " 60  특수                       20 non-null     int64 \n",
      " 61  화물                       20 non-null     int64 \n",
      " 62  자동차등록대수                  20 non-null     int64 \n",
      " 63  단속건수                     20 non-null     int64 \n",
      "dtypes: int64(63), object(1)\n",
      "memory usage: 10.1+ KB\n"
     ]
    }
   ],
   "source": [
    "df_dong.info()"
   ]
  },
  {
   "cell_type": "code",
   "execution_count": 20,
   "id": "114ec2c9",
   "metadata": {},
   "outputs": [],
   "source": [
    "processed_data = df_gu.copy()"
   ]
  },
  {
   "cell_type": "code",
   "execution_count": 21,
   "id": "1119a885",
   "metadata": {},
   "outputs": [],
   "source": [
    "def kmeans(col1, col2):\n",
    "    scaler = MinMaxScaler()\n",
    "    processed_data[[col1, col2]] = scaler.fit_transform(processed_data[[col1, col2]])\n",
    "    \n",
    "    plt.figure(figsize = (8,10))\n",
    "    for i in range(1, 7):\n",
    "        # 클러스터 생성\n",
    "        estimator = KMeans(n_clusters = i)\n",
    "        ids = estimator.fit_predict(processed_data[[col1, col2]])\n",
    "        # 2행 3열을 가진 서브플롯 추가 (인덱스 = i)\n",
    "\n",
    "        plt.subplot(3, 2, i)\n",
    "        plt.tight_layout()\n",
    "        # 서브플롯의 라벨링\n",
    "        plt.title(\"K value = {}\".format(i))\n",
    "        plt.xlabel(col1)\n",
    "        plt.ylabel(col2)\n",
    "        # 클러스터링 그리기\n",
    "        plt.scatter(processed_data[col1], processed_data[col2], c=ids)  \n",
    "    plt.show()"
   ]
  },
  {
   "cell_type": "code",
   "execution_count": 22,
   "id": "7850c6a6",
   "metadata": {},
   "outputs": [],
   "source": [
    "def elbow(col1,col2):\n",
    "    processed_data_t = processed_data[['자치구', col1, col2]]\n",
    "    \n",
    "    X = processed_data_t[[col1, col2]]\n",
    "    Y = processed_data_t['자치구']\n",
    "\n",
    "\n",
    "    distortions = []\n",
    "    for i in range(1, 11):\n",
    "        km = KMeans(\n",
    "            n_clusters=i, init='random',\n",
    "            n_init=10, max_iter=300,\n",
    "            tol=1e-04, random_state=0\n",
    "        )\n",
    "        km.fit(X)\n",
    "        distortions.append(km.inertia_) # 군집 내 분산, 적을수록 좋음\n",
    "\n",
    "    # plot - 급격하게 줄어드는 부분\n",
    "    plt.plot(range(1, 11), distortions, marker='o')\n",
    "    plt.xlabel(col1)\n",
    "    plt.ylabel(col2)\n",
    "    plt.show()"
   ]
  },
  {
   "cell_type": "code",
   "execution_count": 23,
   "id": "a882fd89",
   "metadata": {},
   "outputs": [],
   "source": [
    "def show(col1, col2):\n",
    "    processed_data_t = processed_data[['자치구', col1, col2]]\n",
    "\n",
    "    # K = 3으로 클러스터링\n",
    "    estimator = KMeans(n_clusters = 3)\n",
    "\n",
    "    # 클러스터링 생성\n",
    "    cluster_ids = estimator.fit_predict(processed_data_t[[col1, col2]])\n",
    "\n",
    "    # create a scatter plot\n",
    "    plt.scatter(processed_data_t[col1], processed_data_t[col2], c=cluster_ids)\n",
    "\n",
    "    # 제품과 클러스터 id로 데이터에 범례 달기\n",
    "    for index, gu, gun, people in processed_data_t.itertuples():\n",
    "        plt.annotate(\"{}: {}\".format(cluster_ids[index], gu),(gun, people))\n",
    "\n",
    "    plt.xlabel(col1)\n",
    "    plt.ylabel(col2)\n",
    "    plt.show()"
   ]
  },
  {
   "cell_type": "code",
   "execution_count": 24,
   "id": "5a58abcd",
   "metadata": {
    "scrolled": true
   },
   "outputs": [
    {
     "name": "stdout",
     "output_type": "stream",
     "text": [
      "<class 'pandas.core.frame.DataFrame'>\n",
      "RangeIndex: 20 entries, 0 to 19\n",
      "Data columns (total 64 columns):\n",
      " #   Column                   Non-Null Count  Dtype \n",
      "---  ------                   --------------  ----- \n",
      " 0   행정동                      20 non-null     object\n",
      " 1   승차총승객수                   20 non-null     int64 \n",
      " 2   하차총승객수                   20 non-null     int64 \n",
      " 3   순이동                      20 non-null     int64 \n",
      " 4   사업체수                     20 non-null     int64 \n",
      " 5   종사자수                     20 non-null     int64 \n",
      " 6   농업 임업 및 어업               20 non-null     int64 \n",
      " 7   제조업                      20 non-null     int64 \n",
      " 8   전기 가스 증기 및 공기조절 공급업      20 non-null     int64 \n",
      " 9   수도 하수 및 폐기물 처리 원료 재생업    20 non-null     int64 \n",
      " 10  건설업                      20 non-null     int64 \n",
      " 11  도매 및 소매업                 20 non-null     int64 \n",
      " 12  운수 및 창고업                 20 non-null     int64 \n",
      " 13  숙박 및 음식점업                20 non-null     int64 \n",
      " 14  정보통신업                    20 non-null     int64 \n",
      " 15  금융 및 보험업                 20 non-null     int64 \n",
      " 16  부동산업                     20 non-null     int64 \n",
      " 17  전문 과학 및 기술 서비스업          20 non-null     int64 \n",
      " 18  사업시설 관리 사업 지원 및 임대 서비스업  20 non-null     int64 \n",
      " 19  공공행정 국방 및 사회보장 행정        20 non-null     int64 \n",
      " 20  교육 서비스업                  20 non-null     int64 \n",
      " 21  보건업 및 사회복지 서비스업          20 non-null     int64 \n",
      " 22  예술 스포츠 및 여가관련 서비스업       20 non-null     int64 \n",
      " 23  협회 및 단체 수리 및 기타 개인 서비스업  20 non-null     int64 \n",
      " 24  택시운송업                    20 non-null     int64 \n",
      " 25  버스승차총승객수                 20 non-null     int64 \n",
      " 26  버스하차총승객수                 20 non-null     int64 \n",
      " 27  총상권개수                    20 non-null     int64 \n",
      " 28  주차장 개수                   20 non-null     int64 \n",
      " 29  주차장 면수                   20 non-null     int64 \n",
      " 30  공영 개수                    20 non-null     int64 \n",
      " 31  공영 면수                    20 non-null     int64 \n",
      " 32  민영 개수                    20 non-null     int64 \n",
      " 33  민영 면수                    20 non-null     int64 \n",
      " 34  노상 개수                    20 non-null     int64 \n",
      " 35  노상 면수                    20 non-null     int64 \n",
      " 36  노상 시영 개수                 20 non-null     int64 \n",
      " 37  노상 시영 면수                 20 non-null     int64 \n",
      " 38  노상 구영 개수                 20 non-null     int64 \n",
      " 39  노상 구영 면수                 20 non-null     int64 \n",
      " 40  노외 개수                    20 non-null     int64 \n",
      " 41  노외 면수                    20 non-null     int64 \n",
      " 42  노외 시영 개수                 20 non-null     int64 \n",
      " 43  노외 시영 면수                 20 non-null     int64 \n",
      " 44  노외 구영 개수                 20 non-null     int64 \n",
      " 45  노외 구영 면수                 20 non-null     int64 \n",
      " 46  노외 민영 개수                 20 non-null     int64 \n",
      " 47  노외 민영 면수                 20 non-null     int64 \n",
      " 48  건축물부설 개수                 20 non-null     int64 \n",
      " 49  건축물부설 면수                 20 non-null     int64 \n",
      " 50  건축물부설 일반주택 개수            20 non-null     int64 \n",
      " 51  건축물부설 일반주택 면수            20 non-null     int64 \n",
      " 52  건축물부설 공동주택 개수            20 non-null     int64 \n",
      " 53  건축물부설 공동주택 면수            20 non-null     int64 \n",
      " 54  건축물부설 일반건축물 개수           20 non-null     int64 \n",
      " 55  건축물부설 일반건축물 면수           20 non-null     int64 \n",
      " 56  공영주차장 수                  20 non-null     int64 \n",
      " 57  공영주차장 총 주차면              20 non-null     int64 \n",
      " 58  승용                       20 non-null     int64 \n",
      " 59  승합                       20 non-null     int64 \n",
      " 60  특수                       20 non-null     int64 \n",
      " 61  화물                       20 non-null     int64 \n",
      " 62  자동차등록대수                  20 non-null     int64 \n",
      " 63  단속건수                     20 non-null     int64 \n",
      "dtypes: int64(63), object(1)\n",
      "memory usage: 10.1+ KB\n"
     ]
    }
   ],
   "source": [
    "df_dong.info()"
   ]
  },
  {
   "cell_type": "markdown",
   "id": "71b8e76d",
   "metadata": {},
   "source": [
    "## 필요한 변수만 설정(강한상관관계)"
   ]
  },
  {
   "cell_type": "code",
   "execution_count": 25,
   "id": "251ade13",
   "metadata": {},
   "outputs": [],
   "source": [
    "df_dong_t = df_dong[['행정동', '건축물부설 일반건축물 면수', '주차장 면수', \n",
    "                     '건축물부설 일반주택 면수', '특수', '화물', '승합', '종사자수']]"
   ]
  },
  {
   "cell_type": "code",
   "execution_count": 26,
   "id": "f11d75df",
   "metadata": {},
   "outputs": [
    {
     "data": {
      "text/html": [
       "<div>\n",
       "<style scoped>\n",
       "    .dataframe tbody tr th:only-of-type {\n",
       "        vertical-align: middle;\n",
       "    }\n",
       "\n",
       "    .dataframe tbody tr th {\n",
       "        vertical-align: top;\n",
       "    }\n",
       "\n",
       "    .dataframe thead th {\n",
       "        text-align: right;\n",
       "    }\n",
       "</style>\n",
       "<table border=\"1\" class=\"dataframe\">\n",
       "  <thead>\n",
       "    <tr style=\"text-align: right;\">\n",
       "      <th></th>\n",
       "      <th>행정동</th>\n",
       "      <th>건축물부설 일반건축물 면수</th>\n",
       "      <th>주차장 면수</th>\n",
       "      <th>건축물부설 일반주택 면수</th>\n",
       "      <th>특수</th>\n",
       "      <th>화물</th>\n",
       "      <th>승합</th>\n",
       "      <th>종사자수</th>\n",
       "    </tr>\n",
       "  </thead>\n",
       "  <tbody>\n",
       "    <tr>\n",
       "      <th>0</th>\n",
       "      <td>가양1동</td>\n",
       "      <td>36737</td>\n",
       "      <td>49535</td>\n",
       "      <td>179</td>\n",
       "      <td>31</td>\n",
       "      <td>2281</td>\n",
       "      <td>844</td>\n",
       "      <td>70656</td>\n",
       "    </tr>\n",
       "    <tr>\n",
       "      <th>1</th>\n",
       "      <td>가양2동</td>\n",
       "      <td>1836</td>\n",
       "      <td>5314</td>\n",
       "      <td>0</td>\n",
       "      <td>4</td>\n",
       "      <td>358</td>\n",
       "      <td>139</td>\n",
       "      <td>3352</td>\n",
       "    </tr>\n",
       "    <tr>\n",
       "      <th>2</th>\n",
       "      <td>가양3동</td>\n",
       "      <td>2423</td>\n",
       "      <td>5567</td>\n",
       "      <td>0</td>\n",
       "      <td>6</td>\n",
       "      <td>562</td>\n",
       "      <td>174</td>\n",
       "      <td>7941</td>\n",
       "    </tr>\n",
       "    <tr>\n",
       "      <th>3</th>\n",
       "      <td>공항동</td>\n",
       "      <td>17010</td>\n",
       "      <td>25818</td>\n",
       "      <td>2068</td>\n",
       "      <td>59</td>\n",
       "      <td>1644</td>\n",
       "      <td>561</td>\n",
       "      <td>34394</td>\n",
       "    </tr>\n",
       "    <tr>\n",
       "      <th>4</th>\n",
       "      <td>방화1동</td>\n",
       "      <td>3393</td>\n",
       "      <td>14206</td>\n",
       "      <td>854</td>\n",
       "      <td>40</td>\n",
       "      <td>1645</td>\n",
       "      <td>502</td>\n",
       "      <td>11304</td>\n",
       "    </tr>\n",
       "    <tr>\n",
       "      <th>5</th>\n",
       "      <td>방화2동</td>\n",
       "      <td>9235</td>\n",
       "      <td>15923</td>\n",
       "      <td>744</td>\n",
       "      <td>21</td>\n",
       "      <td>1017</td>\n",
       "      <td>742</td>\n",
       "      <td>16238</td>\n",
       "    </tr>\n",
       "    <tr>\n",
       "      <th>6</th>\n",
       "      <td>방화3동</td>\n",
       "      <td>1915</td>\n",
       "      <td>8603</td>\n",
       "      <td>222</td>\n",
       "      <td>19</td>\n",
       "      <td>669</td>\n",
       "      <td>273</td>\n",
       "      <td>4689</td>\n",
       "    </tr>\n",
       "    <tr>\n",
       "      <th>7</th>\n",
       "      <td>염창동</td>\n",
       "      <td>8126</td>\n",
       "      <td>20668</td>\n",
       "      <td>118</td>\n",
       "      <td>24</td>\n",
       "      <td>1296</td>\n",
       "      <td>316</td>\n",
       "      <td>16227</td>\n",
       "    </tr>\n",
       "    <tr>\n",
       "      <th>8</th>\n",
       "      <td>우장산동</td>\n",
       "      <td>3116</td>\n",
       "      <td>19795</td>\n",
       "      <td>789</td>\n",
       "      <td>37</td>\n",
       "      <td>992</td>\n",
       "      <td>281</td>\n",
       "      <td>7147</td>\n",
       "    </tr>\n",
       "    <tr>\n",
       "      <th>9</th>\n",
       "      <td>화곡8동</td>\n",
       "      <td>1265</td>\n",
       "      <td>8322</td>\n",
       "      <td>771</td>\n",
       "      <td>22</td>\n",
       "      <td>677</td>\n",
       "      <td>186</td>\n",
       "      <td>4385</td>\n",
       "    </tr>\n",
       "    <tr>\n",
       "      <th>10</th>\n",
       "      <td>화곡본동</td>\n",
       "      <td>2699</td>\n",
       "      <td>12732</td>\n",
       "      <td>1021</td>\n",
       "      <td>14</td>\n",
       "      <td>949</td>\n",
       "      <td>323</td>\n",
       "      <td>4919</td>\n",
       "    </tr>\n",
       "    <tr>\n",
       "      <th>11</th>\n",
       "      <td>등촌1동</td>\n",
       "      <td>8891</td>\n",
       "      <td>13600</td>\n",
       "      <td>236</td>\n",
       "      <td>23</td>\n",
       "      <td>876</td>\n",
       "      <td>292</td>\n",
       "      <td>17753</td>\n",
       "    </tr>\n",
       "    <tr>\n",
       "      <th>12</th>\n",
       "      <td>등촌2동</td>\n",
       "      <td>1686</td>\n",
       "      <td>9611</td>\n",
       "      <td>758</td>\n",
       "      <td>11</td>\n",
       "      <td>619</td>\n",
       "      <td>169</td>\n",
       "      <td>3972</td>\n",
       "    </tr>\n",
       "    <tr>\n",
       "      <th>13</th>\n",
       "      <td>등촌3동</td>\n",
       "      <td>9503</td>\n",
       "      <td>17670</td>\n",
       "      <td>39</td>\n",
       "      <td>17</td>\n",
       "      <td>756</td>\n",
       "      <td>278</td>\n",
       "      <td>20336</td>\n",
       "    </tr>\n",
       "    <tr>\n",
       "      <th>14</th>\n",
       "      <td>화곡2동</td>\n",
       "      <td>1105</td>\n",
       "      <td>6412</td>\n",
       "      <td>595</td>\n",
       "      <td>13</td>\n",
       "      <td>604</td>\n",
       "      <td>210</td>\n",
       "      <td>2827</td>\n",
       "    </tr>\n",
       "    <tr>\n",
       "      <th>15</th>\n",
       "      <td>화곡3동</td>\n",
       "      <td>1600</td>\n",
       "      <td>9879</td>\n",
       "      <td>683</td>\n",
       "      <td>19</td>\n",
       "      <td>555</td>\n",
       "      <td>153</td>\n",
       "      <td>4397</td>\n",
       "    </tr>\n",
       "    <tr>\n",
       "      <th>16</th>\n",
       "      <td>화곡4동</td>\n",
       "      <td>1641</td>\n",
       "      <td>8090</td>\n",
       "      <td>1062</td>\n",
       "      <td>15</td>\n",
       "      <td>755</td>\n",
       "      <td>219</td>\n",
       "      <td>4315</td>\n",
       "    </tr>\n",
       "    <tr>\n",
       "      <th>17</th>\n",
       "      <td>화곡6동</td>\n",
       "      <td>5653</td>\n",
       "      <td>14487</td>\n",
       "      <td>753</td>\n",
       "      <td>11</td>\n",
       "      <td>772</td>\n",
       "      <td>235</td>\n",
       "      <td>12040</td>\n",
       "    </tr>\n",
       "    <tr>\n",
       "      <th>18</th>\n",
       "      <td>발산1동</td>\n",
       "      <td>19047</td>\n",
       "      <td>29360</td>\n",
       "      <td>352</td>\n",
       "      <td>69</td>\n",
       "      <td>1686</td>\n",
       "      <td>578</td>\n",
       "      <td>32771</td>\n",
       "    </tr>\n",
       "    <tr>\n",
       "      <th>19</th>\n",
       "      <td>화곡1동</td>\n",
       "      <td>5208</td>\n",
       "      <td>20220</td>\n",
       "      <td>1328</td>\n",
       "      <td>39</td>\n",
       "      <td>2097</td>\n",
       "      <td>539</td>\n",
       "      <td>10810</td>\n",
       "    </tr>\n",
       "  </tbody>\n",
       "</table>\n",
       "</div>"
      ],
      "text/plain": [
       "     행정동  건축물부설 일반건축물 면수  주차장 면수  건축물부설 일반주택 면수  특수    화물   승합   종사자수\n",
       "0   가양1동           36737   49535            179  31  2281  844  70656\n",
       "1   가양2동            1836    5314              0   4   358  139   3352\n",
       "2   가양3동            2423    5567              0   6   562  174   7941\n",
       "3    공항동           17010   25818           2068  59  1644  561  34394\n",
       "4   방화1동            3393   14206            854  40  1645  502  11304\n",
       "5   방화2동            9235   15923            744  21  1017  742  16238\n",
       "6   방화3동            1915    8603            222  19   669  273   4689\n",
       "7    염창동            8126   20668            118  24  1296  316  16227\n",
       "8   우장산동            3116   19795            789  37   992  281   7147\n",
       "9   화곡8동            1265    8322            771  22   677  186   4385\n",
       "10  화곡본동            2699   12732           1021  14   949  323   4919\n",
       "11  등촌1동            8891   13600            236  23   876  292  17753\n",
       "12  등촌2동            1686    9611            758  11   619  169   3972\n",
       "13  등촌3동            9503   17670             39  17   756  278  20336\n",
       "14  화곡2동            1105    6412            595  13   604  210   2827\n",
       "15  화곡3동            1600    9879            683  19   555  153   4397\n",
       "16  화곡4동            1641    8090           1062  15   755  219   4315\n",
       "17  화곡6동            5653   14487            753  11   772  235  12040\n",
       "18  발산1동           19047   29360            352  69  1686  578  32771\n",
       "19  화곡1동            5208   20220           1328  39  2097  539  10810"
      ]
     },
     "execution_count": 26,
     "metadata": {},
     "output_type": "execute_result"
    }
   ],
   "source": [
    "df_dong_t"
   ]
  },
  {
   "cell_type": "code",
   "execution_count": 27,
   "id": "2d3d2184",
   "metadata": {},
   "outputs": [],
   "source": [
    "df_x = df_dong_t.drop('행정동', axis = 1)\n",
    "df_y = df_dong_t['행정동']"
   ]
  },
  {
   "cell_type": "markdown",
   "id": "fbf4000d",
   "metadata": {},
   "source": [
    "## 정규화"
   ]
  },
  {
   "cell_type": "code",
   "execution_count": 28,
   "id": "f9eac9c0",
   "metadata": {},
   "outputs": [],
   "source": [
    "# 정규화\n",
    "# from sklearn.preprocessing import StandardScaler \n",
    "\n",
    "# scaler = StandardScaler()            \n",
    "# scaler.fit(df_x)                    \n",
    "# df_s = scaler.transform(df_x)       \n",
    "# df_s = pd.DataFrame(df_s, index = df_x.index, columns=df_x.columns) \n",
    "# df_s"
   ]
  },
  {
   "cell_type": "markdown",
   "id": "10559352",
   "metadata": {},
   "source": [
    "## 차원 축소"
   ]
  },
  {
   "cell_type": "code",
   "execution_count": 29,
   "id": "fcd95660",
   "metadata": {},
   "outputs": [
    {
     "data": {
      "text/html": [
       "<div>\n",
       "<style scoped>\n",
       "    .dataframe tbody tr th:only-of-type {\n",
       "        vertical-align: middle;\n",
       "    }\n",
       "\n",
       "    .dataframe tbody tr th {\n",
       "        vertical-align: top;\n",
       "    }\n",
       "\n",
       "    .dataframe thead th {\n",
       "        text-align: right;\n",
       "    }\n",
       "</style>\n",
       "<table border=\"1\" class=\"dataframe\">\n",
       "  <thead>\n",
       "    <tr style=\"text-align: right;\">\n",
       "      <th></th>\n",
       "      <th>PC1</th>\n",
       "      <th>PC2</th>\n",
       "    </tr>\n",
       "  </thead>\n",
       "  <tbody>\n",
       "    <tr>\n",
       "      <th>0</th>\n",
       "      <td>71889.101467</td>\n",
       "      <td>-1122.597911</td>\n",
       "    </tr>\n",
       "    <tr>\n",
       "      <th>1</th>\n",
       "      <td>-15870.422609</td>\n",
       "      <td>-3240.905064</td>\n",
       "    </tr>\n",
       "    <tr>\n",
       "      <th>2</th>\n",
       "      <td>-11960.318287</td>\n",
       "      <td>-5159.502654</td>\n",
       "    </tr>\n",
       "    <tr>\n",
       "      <th>3</th>\n",
       "      <td>24283.546039</td>\n",
       "      <td>-1857.982066</td>\n",
       "    </tr>\n",
       "    <tr>\n",
       "      <th>4</th>\n",
       "      <td>-4772.492682</td>\n",
       "      <td>809.794125</td>\n",
       "    </tr>\n",
       "    <tr>\n",
       "      <th>5</th>\n",
       "      <td>2271.535136</td>\n",
       "      <td>-1040.378049</td>\n",
       "    </tr>\n",
       "    <tr>\n",
       "      <th>6</th>\n",
       "      <td>-13212.347095</td>\n",
       "      <td>-951.608641</td>\n",
       "    </tr>\n",
       "    <tr>\n",
       "      <th>7</th>\n",
       "      <td>4095.422238</td>\n",
       "      <td>3285.983912</td>\n",
       "    </tr>\n",
       "    <tr>\n",
       "      <th>8</th>\n",
       "      <td>-5413.184793</td>\n",
       "      <td>7526.686495</td>\n",
       "    </tr>\n",
       "    <tr>\n",
       "      <th>9</th>\n",
       "      <td>-13852.566123</td>\n",
       "      <td>-908.984059</td>\n",
       "    </tr>\n",
       "    <tr>\n",
       "      <th>10</th>\n",
       "      <td>-10712.789053</td>\n",
       "      <td>2457.491670</td>\n",
       "    </tr>\n",
       "    <tr>\n",
       "      <th>11</th>\n",
       "      <td>2171.236399</td>\n",
       "      <td>-3715.402360</td>\n",
       "    </tr>\n",
       "    <tr>\n",
       "      <th>12</th>\n",
       "      <td>-13376.306112</td>\n",
       "      <td>312.909418</td>\n",
       "    </tr>\n",
       "    <tr>\n",
       "      <th>13</th>\n",
       "      <td>6378.551431</td>\n",
       "      <td>-1456.463889</td>\n",
       "    </tr>\n",
       "    <tr>\n",
       "      <th>14</th>\n",
       "      <td>-16043.438192</td>\n",
       "      <td>-1862.727409</td>\n",
       "    </tr>\n",
       "    <tr>\n",
       "      <th>15</th>\n",
       "      <td>-12956.113194</td>\n",
       "      <td>364.407062</td>\n",
       "    </tr>\n",
       "    <tr>\n",
       "      <th>16</th>\n",
       "      <td>-13861.108931</td>\n",
       "      <td>-1128.857918</td>\n",
       "    </tr>\n",
       "    <tr>\n",
       "      <th>17</th>\n",
       "      <td>-3152.682671</td>\n",
       "      <td>230.468023</td>\n",
       "    </tr>\n",
       "    <tr>\n",
       "      <th>18</th>\n",
       "      <td>25585.916792</td>\n",
       "      <td>1474.845204</td>\n",
       "    </tr>\n",
       "    <tr>\n",
       "      <th>19</th>\n",
       "      <td>-1491.539760</td>\n",
       "      <td>5982.824114</td>\n",
       "    </tr>\n",
       "  </tbody>\n",
       "</table>\n",
       "</div>"
      ],
      "text/plain": [
       "             PC1          PC2\n",
       "0   71889.101467 -1122.597911\n",
       "1  -15870.422609 -3240.905064\n",
       "2  -11960.318287 -5159.502654\n",
       "3   24283.546039 -1857.982066\n",
       "4   -4772.492682   809.794125\n",
       "5    2271.535136 -1040.378049\n",
       "6  -13212.347095  -951.608641\n",
       "7    4095.422238  3285.983912\n",
       "8   -5413.184793  7526.686495\n",
       "9  -13852.566123  -908.984059\n",
       "10 -10712.789053  2457.491670\n",
       "11   2171.236399 -3715.402360\n",
       "12 -13376.306112   312.909418\n",
       "13   6378.551431 -1456.463889\n",
       "14 -16043.438192 -1862.727409\n",
       "15 -12956.113194   364.407062\n",
       "16 -13861.108931 -1128.857918\n",
       "17  -3152.682671   230.468023\n",
       "18  25585.916792  1474.845204\n",
       "19  -1491.539760  5982.824114"
      ]
     },
     "execution_count": 29,
     "metadata": {},
     "output_type": "execute_result"
    }
   ],
   "source": [
    "from sklearn.decomposition import PCA \n",
    "\n",
    "pca = PCA(n_components = 2)      \n",
    "pca.fit(df_x)             \n",
    "df_p = pca.transform(df_x)\n",
    "df_p = pd.DataFrame(df_p, columns = ['PC1','PC2']) \n",
    "df_p"
   ]
  },
  {
   "cell_type": "markdown",
   "id": "38faa1d3",
   "metadata": {},
   "source": [
    "## 군집의 개수를 정하기 (centroid 개수)"
   ]
  },
  {
   "cell_type": "code",
   "execution_count": 30,
   "id": "d13b4504",
   "metadata": {},
   "outputs": [],
   "source": [
    "from sklearn.cluster import KMeans             \n",
    "\n",
    "sum_of_squared_distance = []                    \n",
    "K = range(1,10)                                 \n",
    "for k in K:\n",
    "    km = KMeans(n_clusters = k)\n",
    "    km = km.fit(df_p)\n",
    "    sum_of_squared_distance.append(km.inertia_)"
   ]
  },
  {
   "cell_type": "markdown",
   "id": "b0273bcb",
   "metadata": {},
   "source": [
    "## Elbow Method"
   ]
  },
  {
   "cell_type": "code",
   "execution_count": 31,
   "id": "a01606af",
   "metadata": {},
   "outputs": [
    {
     "data": {
      "image/png": "[encoded data removed]",
      "text/plain": [
       "<Figure size 640x480 with 1 Axes>"
      ]
     },
     "metadata": {},
     "output_type": "display_data"
    }
   ],
   "source": [
    "import matplotlib.pyplot as plt                 # 그래프를 그리기 matplotlib 라이브러리를 사용한다.\n",
    "\n",
    "plt.plot(sum_of_squared_distance, '-bx')        # (default = line) plot을 그리고, 컬러를 blue, 포인터를 x로 놓는다. \n",
    "plt.xlabel('k')                                 # x축은 k로 지정\n",
    "plt.ylabel('sum of squared distance')           # y축엔 거리제곱합의 이름\n",
    "plt.title('Elbow Method for getting k value')   # 제목도 변경한다.\n",
    "plt.show()                                      # 플롯을 그려본다"
   ]
  },
  {
   "cell_type": "markdown",
   "id": "5ac8877e",
   "metadata": {},
   "source": [
    "## 구한 k값으로 K-Means"
   ]
  },
  {
   "cell_type": "code",
   "execution_count": 32,
   "id": "5232a577",
   "metadata": {},
   "outputs": [
    {
     "data": {
      "text/html": [
       "<div>\n",
       "<style scoped>\n",
       "    .dataframe tbody tr th:only-of-type {\n",
       "        vertical-align: middle;\n",
       "    }\n",
       "\n",
       "    .dataframe tbody tr th {\n",
       "        vertical-align: top;\n",
       "    }\n",
       "\n",
       "    .dataframe thead th {\n",
       "        text-align: right;\n",
       "    }\n",
       "</style>\n",
       "<table border=\"1\" class=\"dataframe\">\n",
       "  <thead>\n",
       "    <tr style=\"text-align: right;\">\n",
       "      <th></th>\n",
       "      <th>PC1</th>\n",
       "      <th>PC2</th>\n",
       "      <th>label</th>\n",
       "    </tr>\n",
       "  </thead>\n",
       "  <tbody>\n",
       "    <tr>\n",
       "      <th>0</th>\n",
       "      <td>71889.101467</td>\n",
       "      <td>-1122.597911</td>\n",
       "      <td>1</td>\n",
       "    </tr>\n",
       "    <tr>\n",
       "      <th>1</th>\n",
       "      <td>-15870.422609</td>\n",
       "      <td>-3240.905064</td>\n",
       "      <td>0</td>\n",
       "    </tr>\n",
       "    <tr>\n",
       "      <th>2</th>\n",
       "      <td>-11960.318287</td>\n",
       "      <td>-5159.502654</td>\n",
       "      <td>0</td>\n",
       "    </tr>\n",
       "    <tr>\n",
       "      <th>3</th>\n",
       "      <td>24283.546039</td>\n",
       "      <td>-1857.982066</td>\n",
       "      <td>3</td>\n",
       "    </tr>\n",
       "    <tr>\n",
       "      <th>4</th>\n",
       "      <td>-4772.492682</td>\n",
       "      <td>809.794125</td>\n",
       "      <td>2</td>\n",
       "    </tr>\n",
       "    <tr>\n",
       "      <th>5</th>\n",
       "      <td>2271.535136</td>\n",
       "      <td>-1040.378049</td>\n",
       "      <td>2</td>\n",
       "    </tr>\n",
       "    <tr>\n",
       "      <th>6</th>\n",
       "      <td>-13212.347095</td>\n",
       "      <td>-951.608641</td>\n",
       "      <td>0</td>\n",
       "    </tr>\n",
       "    <tr>\n",
       "      <th>7</th>\n",
       "      <td>4095.422238</td>\n",
       "      <td>3285.983912</td>\n",
       "      <td>2</td>\n",
       "    </tr>\n",
       "    <tr>\n",
       "      <th>8</th>\n",
       "      <td>-5413.184793</td>\n",
       "      <td>7526.686495</td>\n",
       "      <td>2</td>\n",
       "    </tr>\n",
       "    <tr>\n",
       "      <th>9</th>\n",
       "      <td>-13852.566123</td>\n",
       "      <td>-908.984059</td>\n",
       "      <td>0</td>\n",
       "    </tr>\n",
       "    <tr>\n",
       "      <th>10</th>\n",
       "      <td>-10712.789053</td>\n",
       "      <td>2457.491670</td>\n",
       "      <td>0</td>\n",
       "    </tr>\n",
       "    <tr>\n",
       "      <th>11</th>\n",
       "      <td>2171.236399</td>\n",
       "      <td>-3715.402360</td>\n",
       "      <td>2</td>\n",
       "    </tr>\n",
       "    <tr>\n",
       "      <th>12</th>\n",
       "      <td>-13376.306112</td>\n",
       "      <td>312.909418</td>\n",
       "      <td>0</td>\n",
       "    </tr>\n",
       "    <tr>\n",
       "      <th>13</th>\n",
       "      <td>6378.551431</td>\n",
       "      <td>-1456.463889</td>\n",
       "      <td>2</td>\n",
       "    </tr>\n",
       "    <tr>\n",
       "      <th>14</th>\n",
       "      <td>-16043.438192</td>\n",
       "      <td>-1862.727409</td>\n",
       "      <td>0</td>\n",
       "    </tr>\n",
       "    <tr>\n",
       "      <th>15</th>\n",
       "      <td>-12956.113194</td>\n",
       "      <td>364.407062</td>\n",
       "      <td>0</td>\n",
       "    </tr>\n",
       "    <tr>\n",
       "      <th>16</th>\n",
       "      <td>-13861.108931</td>\n",
       "      <td>-1128.857918</td>\n",
       "      <td>0</td>\n",
       "    </tr>\n",
       "    <tr>\n",
       "      <th>17</th>\n",
       "      <td>-3152.682671</td>\n",
       "      <td>230.468023</td>\n",
       "      <td>2</td>\n",
       "    </tr>\n",
       "    <tr>\n",
       "      <th>18</th>\n",
       "      <td>25585.916792</td>\n",
       "      <td>1474.845204</td>\n",
       "      <td>3</td>\n",
       "    </tr>\n",
       "    <tr>\n",
       "      <th>19</th>\n",
       "      <td>-1491.539760</td>\n",
       "      <td>5982.824114</td>\n",
       "      <td>2</td>\n",
       "    </tr>\n",
       "  </tbody>\n",
       "</table>\n",
       "</div>"
      ],
      "text/plain": [
       "             PC1          PC2  label\n",
       "0   71889.101467 -1122.597911      1\n",
       "1  -15870.422609 -3240.905064      0\n",
       "2  -11960.318287 -5159.502654      0\n",
       "3   24283.546039 -1857.982066      3\n",
       "4   -4772.492682   809.794125      2\n",
       "5    2271.535136 -1040.378049      2\n",
       "6  -13212.347095  -951.608641      0\n",
       "7    4095.422238  3285.983912      2\n",
       "8   -5413.184793  7526.686495      2\n",
       "9  -13852.566123  -908.984059      0\n",
       "10 -10712.789053  2457.491670      0\n",
       "11   2171.236399 -3715.402360      2\n",
       "12 -13376.306112   312.909418      0\n",
       "13   6378.551431 -1456.463889      2\n",
       "14 -16043.438192 -1862.727409      0\n",
       "15 -12956.113194   364.407062      0\n",
       "16 -13861.108931 -1128.857918      0\n",
       "17  -3152.682671   230.468023      2\n",
       "18  25585.916792  1474.845204      3\n",
       "19  -1491.539760  5982.824114      2"
      ]
     },
     "execution_count": 32,
     "metadata": {},
     "output_type": "execute_result"
    }
   ],
   "source": [
    "kmeans = KMeans(n_clusters=4, random_state=42)\n",
    "kmeans.fit(df_p)\n",
    "label = kmeans.labels_\n",
    "label = pd.Series(label)\n",
    "df_p['label'] = label.values\n",
    "df_p"
   ]
  },
  {
   "cell_type": "markdown",
   "id": "9ffa85c9",
   "metadata": {},
   "source": [
    "## 시각화"
   ]
  },
  {
   "cell_type": "code",
   "execution_count": 33,
   "id": "cc0a3693",
   "metadata": {},
   "outputs": [
    {
     "data": {
      "image/png": "[encoded data removed]",
      "text/plain": [
       "<Figure size 640x480 with 1 Axes>"
      ]
     },
     "metadata": {},
     "output_type": "display_data"
    }
   ],
   "source": [
    "import seaborn as sns\n",
    "\n",
    "sns.scatterplot(data = df_p, x = 'PC1',y = 'PC2', hue = 'label')\n",
    "plt.show()"
   ]
  },
  {
   "cell_type": "code",
   "execution_count": 34,
   "id": "15e822fd",
   "metadata": {},
   "outputs": [],
   "source": [
    "df_1 = df_p[df_p['label'] == 0].reset_index()\n",
    "df_2 = df_p[df_p['label'] == 1].reset_index()\n",
    "df_3 = df_p[df_p['label'] == 2].reset_index()\n",
    "df_4 = df_p[df_p['label'] == 3].reset_index()\n",
    "df_dong_t = df_dong_t.reset_index()"
   ]
  },
  {
   "cell_type": "code",
   "execution_count": 35,
   "id": "e047b472",
   "metadata": {},
   "outputs": [],
   "source": [
    "dong_0 = pd.merge(df_1, df_dong_t, how = 'inner', on = 'index')\n",
    "dong_0 = dong_0.iloc[:,4:]\n"
   ]
  },
  {
   "cell_type": "code",
   "execution_count": 36,
   "id": "96fc0453",
   "metadata": {},
   "outputs": [
    {
     "data": {
      "text/html": [
       "<div>\n",
       "<style scoped>\n",
       "    .dataframe tbody tr th:only-of-type {\n",
       "        vertical-align: middle;\n",
       "    }\n",
       "\n",
       "    .dataframe tbody tr th {\n",
       "        vertical-align: top;\n",
       "    }\n",
       "\n",
       "    .dataframe thead th {\n",
       "        text-align: right;\n",
       "    }\n",
       "</style>\n",
       "<table border=\"1\" class=\"dataframe\">\n",
       "  <thead>\n",
       "    <tr style=\"text-align: right;\">\n",
       "      <th></th>\n",
       "      <th>행정동</th>\n",
       "      <th>건축물부설 일반건축물 면수</th>\n",
       "      <th>주차장 면수</th>\n",
       "      <th>건축물부설 일반주택 면수</th>\n",
       "      <th>특수</th>\n",
       "      <th>화물</th>\n",
       "      <th>승합</th>\n",
       "      <th>종사자수</th>\n",
       "      <th>단속건수</th>\n",
       "    </tr>\n",
       "  </thead>\n",
       "  <tbody>\n",
       "    <tr>\n",
       "      <th>0</th>\n",
       "      <td>가양2동</td>\n",
       "      <td>1836</td>\n",
       "      <td>5314</td>\n",
       "      <td>0</td>\n",
       "      <td>4</td>\n",
       "      <td>358</td>\n",
       "      <td>139</td>\n",
       "      <td>3352</td>\n",
       "      <td>13315</td>\n",
       "    </tr>\n",
       "    <tr>\n",
       "      <th>1</th>\n",
       "      <td>가양3동</td>\n",
       "      <td>2423</td>\n",
       "      <td>5567</td>\n",
       "      <td>0</td>\n",
       "      <td>6</td>\n",
       "      <td>562</td>\n",
       "      <td>174</td>\n",
       "      <td>7941</td>\n",
       "      <td>1801</td>\n",
       "    </tr>\n",
       "    <tr>\n",
       "      <th>2</th>\n",
       "      <td>방화3동</td>\n",
       "      <td>1915</td>\n",
       "      <td>8603</td>\n",
       "      <td>222</td>\n",
       "      <td>19</td>\n",
       "      <td>669</td>\n",
       "      <td>273</td>\n",
       "      <td>4689</td>\n",
       "      <td>2714</td>\n",
       "    </tr>\n",
       "    <tr>\n",
       "      <th>3</th>\n",
       "      <td>화곡8동</td>\n",
       "      <td>1265</td>\n",
       "      <td>8322</td>\n",
       "      <td>771</td>\n",
       "      <td>22</td>\n",
       "      <td>677</td>\n",
       "      <td>186</td>\n",
       "      <td>4385</td>\n",
       "      <td>3628</td>\n",
       "    </tr>\n",
       "    <tr>\n",
       "      <th>4</th>\n",
       "      <td>화곡본동</td>\n",
       "      <td>2699</td>\n",
       "      <td>12732</td>\n",
       "      <td>1021</td>\n",
       "      <td>14</td>\n",
       "      <td>949</td>\n",
       "      <td>323</td>\n",
       "      <td>4919</td>\n",
       "      <td>4098</td>\n",
       "    </tr>\n",
       "    <tr>\n",
       "      <th>5</th>\n",
       "      <td>등촌2동</td>\n",
       "      <td>1686</td>\n",
       "      <td>9611</td>\n",
       "      <td>758</td>\n",
       "      <td>11</td>\n",
       "      <td>619</td>\n",
       "      <td>169</td>\n",
       "      <td>3972</td>\n",
       "      <td>1888</td>\n",
       "    </tr>\n",
       "    <tr>\n",
       "      <th>6</th>\n",
       "      <td>화곡2동</td>\n",
       "      <td>1105</td>\n",
       "      <td>6412</td>\n",
       "      <td>595</td>\n",
       "      <td>13</td>\n",
       "      <td>604</td>\n",
       "      <td>210</td>\n",
       "      <td>2827</td>\n",
       "      <td>3829</td>\n",
       "    </tr>\n",
       "    <tr>\n",
       "      <th>7</th>\n",
       "      <td>화곡3동</td>\n",
       "      <td>1600</td>\n",
       "      <td>9879</td>\n",
       "      <td>683</td>\n",
       "      <td>19</td>\n",
       "      <td>555</td>\n",
       "      <td>153</td>\n",
       "      <td>4397</td>\n",
       "      <td>4245</td>\n",
       "    </tr>\n",
       "    <tr>\n",
       "      <th>8</th>\n",
       "      <td>화곡4동</td>\n",
       "      <td>1641</td>\n",
       "      <td>8090</td>\n",
       "      <td>1062</td>\n",
       "      <td>15</td>\n",
       "      <td>755</td>\n",
       "      <td>219</td>\n",
       "      <td>4315</td>\n",
       "      <td>5120</td>\n",
       "    </tr>\n",
       "  </tbody>\n",
       "</table>\n",
       "</div>"
      ],
      "text/plain": [
       "    행정동  건축물부설 일반건축물 면수  주차장 면수  건축물부설 일반주택 면수  특수   화물   승합  종사자수   단속건수\n",
       "0  가양2동            1836    5314              0   4  358  139  3352  13315\n",
       "1  가양3동            2423    5567              0   6  562  174  7941   1801\n",
       "2  방화3동            1915    8603            222  19  669  273  4689   2714\n",
       "3  화곡8동            1265    8322            771  22  677  186  4385   3628\n",
       "4  화곡본동            2699   12732           1021  14  949  323  4919   4098\n",
       "5  등촌2동            1686    9611            758  11  619  169  3972   1888\n",
       "6  화곡2동            1105    6412            595  13  604  210  2827   3829\n",
       "7  화곡3동            1600    9879            683  19  555  153  4397   4245\n",
       "8  화곡4동            1641    8090           1062  15  755  219  4315   5120"
      ]
     },
     "execution_count": 36,
     "metadata": {},
     "output_type": "execute_result"
    }
   ],
   "source": [
    "test0 = pd.merge(dong_0, df_dong[['행정동','단속건수']], how = 'inner', on = '행정동')\n",
    "test0"
   ]
  },
  {
   "cell_type": "code",
   "execution_count": 38,
   "id": "7d7f03a1",
   "metadata": {},
   "outputs": [
    {
     "data": {
      "text/plain": [
       "3829.0"
      ]
     },
     "execution_count": 38,
     "metadata": {},
     "output_type": "execute_result"
    }
   ],
   "source": [
    "test0['단속건수'].median()"
   ]
  },
  {
   "cell_type": "code",
   "execution_count": 40,
   "id": "28c52700",
   "metadata": {},
   "outputs": [
    {
     "data": {
      "text/plain": [
       "1.935186925442348"
      ]
     },
     "execution_count": 40,
     "metadata": {},
     "output_type": "execute_result"
    }
   ],
   "source": [
    "(test0['주차장 면수'] / test0['종사자수']).mean()"
   ]
  },
  {
   "cell_type": "code",
   "execution_count": 41,
   "id": "316487e7",
   "metadata": {},
   "outputs": [
    {
     "data": {
      "text/html": [
       "<div>\n",
       "<style scoped>\n",
       "    .dataframe tbody tr th:only-of-type {\n",
       "        vertical-align: middle;\n",
       "    }\n",
       "\n",
       "    .dataframe tbody tr th {\n",
       "        vertical-align: top;\n",
       "    }\n",
       "\n",
       "    .dataframe thead th {\n",
       "        text-align: right;\n",
       "    }\n",
       "</style>\n",
       "<table border=\"1\" class=\"dataframe\">\n",
       "  <thead>\n",
       "    <tr style=\"text-align: right;\">\n",
       "      <th></th>\n",
       "      <th>행정동</th>\n",
       "      <th>건축물부설 일반건축물 면수</th>\n",
       "      <th>주차장 면수</th>\n",
       "      <th>건축물부설 일반주택 면수</th>\n",
       "      <th>특수</th>\n",
       "      <th>화물</th>\n",
       "      <th>승합</th>\n",
       "      <th>종사자수</th>\n",
       "    </tr>\n",
       "  </thead>\n",
       "  <tbody>\n",
       "    <tr>\n",
       "      <th>0</th>\n",
       "      <td>가양1동</td>\n",
       "      <td>36737</td>\n",
       "      <td>49535</td>\n",
       "      <td>179</td>\n",
       "      <td>31</td>\n",
       "      <td>2281</td>\n",
       "      <td>844</td>\n",
       "      <td>70656</td>\n",
       "    </tr>\n",
       "  </tbody>\n",
       "</table>\n",
       "</div>"
      ],
      "text/plain": [
       "    행정동  건축물부설 일반건축물 면수  주차장 면수  건축물부설 일반주택 면수  특수    화물   승합   종사자수\n",
       "0  가양1동           36737   49535            179  31  2281  844  70656"
      ]
     },
     "execution_count": 41,
     "metadata": {},
     "output_type": "execute_result"
    }
   ],
   "source": [
    "dong_1 = pd.merge(df_2, df_dong_t, how = 'inner', on = 'index')\n",
    "dong_1 = dong_1.iloc[:,4:]\n",
    "dong_1"
   ]
  },
  {
   "cell_type": "code",
   "execution_count": 42,
   "id": "3c941bfd",
   "metadata": {},
   "outputs": [
    {
     "data": {
      "text/plain": [
       "16889.0"
      ]
     },
     "execution_count": 42,
     "metadata": {},
     "output_type": "execute_result"
    }
   ],
   "source": [
    "test1 = pd.merge(dong_1, df_dong[['행정동','단속건수']], how = 'inner', on = '행정동')\n",
    "test1['단속건수'].mean()"
   ]
  },
  {
   "cell_type": "code",
   "execution_count": 43,
   "id": "814fc100",
   "metadata": {},
   "outputs": [
    {
     "data": {
      "text/html": [
       "<div>\n",
       "<style scoped>\n",
       "    .dataframe tbody tr th:only-of-type {\n",
       "        vertical-align: middle;\n",
       "    }\n",
       "\n",
       "    .dataframe tbody tr th {\n",
       "        vertical-align: top;\n",
       "    }\n",
       "\n",
       "    .dataframe thead th {\n",
       "        text-align: right;\n",
       "    }\n",
       "</style>\n",
       "<table border=\"1\" class=\"dataframe\">\n",
       "  <thead>\n",
       "    <tr style=\"text-align: right;\">\n",
       "      <th></th>\n",
       "      <th>행정동</th>\n",
       "      <th>건축물부설 일반건축물 면수</th>\n",
       "      <th>주차장 면수</th>\n",
       "      <th>건축물부설 일반주택 면수</th>\n",
       "      <th>특수</th>\n",
       "      <th>화물</th>\n",
       "      <th>승합</th>\n",
       "      <th>종사자수</th>\n",
       "      <th>단속건수</th>\n",
       "    </tr>\n",
       "  </thead>\n",
       "  <tbody>\n",
       "    <tr>\n",
       "      <th>0</th>\n",
       "      <td>가양1동</td>\n",
       "      <td>36737</td>\n",
       "      <td>49535</td>\n",
       "      <td>179</td>\n",
       "      <td>31</td>\n",
       "      <td>2281</td>\n",
       "      <td>844</td>\n",
       "      <td>70656</td>\n",
       "      <td>16889</td>\n",
       "    </tr>\n",
       "  </tbody>\n",
       "</table>\n",
       "</div>"
      ],
      "text/plain": [
       "    행정동  건축물부설 일반건축물 면수  주차장 면수  건축물부설 일반주택 면수  특수    화물   승합   종사자수   단속건수\n",
       "0  가양1동           36737   49535            179  31  2281  844  70656  16889"
      ]
     },
     "execution_count": 43,
     "metadata": {},
     "output_type": "execute_result"
    }
   ],
   "source": [
    "test1"
   ]
  },
  {
   "cell_type": "code",
   "execution_count": 44,
   "id": "06b94c81",
   "metadata": {},
   "outputs": [
    {
     "data": {
      "text/plain": [
       "0.7010728034420289"
      ]
     },
     "execution_count": 44,
     "metadata": {},
     "output_type": "execute_result"
    }
   ],
   "source": [
    "(test1['주차장 면수'] / test1['종사자수']).mean()"
   ]
  },
  {
   "cell_type": "code",
   "execution_count": 45,
   "id": "773153b5",
   "metadata": {},
   "outputs": [
    {
     "data": {
      "text/html": [
       "<div>\n",
       "<style scoped>\n",
       "    .dataframe tbody tr th:only-of-type {\n",
       "        vertical-align: middle;\n",
       "    }\n",
       "\n",
       "    .dataframe tbody tr th {\n",
       "        vertical-align: top;\n",
       "    }\n",
       "\n",
       "    .dataframe thead th {\n",
       "        text-align: right;\n",
       "    }\n",
       "</style>\n",
       "<table border=\"1\" class=\"dataframe\">\n",
       "  <thead>\n",
       "    <tr style=\"text-align: right;\">\n",
       "      <th></th>\n",
       "      <th>행정동</th>\n",
       "      <th>건축물부설 일반건축물 면수</th>\n",
       "      <th>주차장 면수</th>\n",
       "      <th>건축물부설 일반주택 면수</th>\n",
       "      <th>특수</th>\n",
       "      <th>화물</th>\n",
       "      <th>승합</th>\n",
       "      <th>종사자수</th>\n",
       "    </tr>\n",
       "  </thead>\n",
       "  <tbody>\n",
       "    <tr>\n",
       "      <th>0</th>\n",
       "      <td>방화1동</td>\n",
       "      <td>3393</td>\n",
       "      <td>14206</td>\n",
       "      <td>854</td>\n",
       "      <td>40</td>\n",
       "      <td>1645</td>\n",
       "      <td>502</td>\n",
       "      <td>11304</td>\n",
       "    </tr>\n",
       "    <tr>\n",
       "      <th>1</th>\n",
       "      <td>방화2동</td>\n",
       "      <td>9235</td>\n",
       "      <td>15923</td>\n",
       "      <td>744</td>\n",
       "      <td>21</td>\n",
       "      <td>1017</td>\n",
       "      <td>742</td>\n",
       "      <td>16238</td>\n",
       "    </tr>\n",
       "    <tr>\n",
       "      <th>2</th>\n",
       "      <td>염창동</td>\n",
       "      <td>8126</td>\n",
       "      <td>20668</td>\n",
       "      <td>118</td>\n",
       "      <td>24</td>\n",
       "      <td>1296</td>\n",
       "      <td>316</td>\n",
       "      <td>16227</td>\n",
       "    </tr>\n",
       "    <tr>\n",
       "      <th>3</th>\n",
       "      <td>우장산동</td>\n",
       "      <td>3116</td>\n",
       "      <td>19795</td>\n",
       "      <td>789</td>\n",
       "      <td>37</td>\n",
       "      <td>992</td>\n",
       "      <td>281</td>\n",
       "      <td>7147</td>\n",
       "    </tr>\n",
       "    <tr>\n",
       "      <th>4</th>\n",
       "      <td>등촌1동</td>\n",
       "      <td>8891</td>\n",
       "      <td>13600</td>\n",
       "      <td>236</td>\n",
       "      <td>23</td>\n",
       "      <td>876</td>\n",
       "      <td>292</td>\n",
       "      <td>17753</td>\n",
       "    </tr>\n",
       "    <tr>\n",
       "      <th>5</th>\n",
       "      <td>등촌3동</td>\n",
       "      <td>9503</td>\n",
       "      <td>17670</td>\n",
       "      <td>39</td>\n",
       "      <td>17</td>\n",
       "      <td>756</td>\n",
       "      <td>278</td>\n",
       "      <td>20336</td>\n",
       "    </tr>\n",
       "    <tr>\n",
       "      <th>6</th>\n",
       "      <td>화곡6동</td>\n",
       "      <td>5653</td>\n",
       "      <td>14487</td>\n",
       "      <td>753</td>\n",
       "      <td>11</td>\n",
       "      <td>772</td>\n",
       "      <td>235</td>\n",
       "      <td>12040</td>\n",
       "    </tr>\n",
       "    <tr>\n",
       "      <th>7</th>\n",
       "      <td>화곡1동</td>\n",
       "      <td>5208</td>\n",
       "      <td>20220</td>\n",
       "      <td>1328</td>\n",
       "      <td>39</td>\n",
       "      <td>2097</td>\n",
       "      <td>539</td>\n",
       "      <td>10810</td>\n",
       "    </tr>\n",
       "  </tbody>\n",
       "</table>\n",
       "</div>"
      ],
      "text/plain": [
       "    행정동  건축물부설 일반건축물 면수  주차장 면수  건축물부설 일반주택 면수  특수    화물   승합   종사자수\n",
       "0  방화1동            3393   14206            854  40  1645  502  11304\n",
       "1  방화2동            9235   15923            744  21  1017  742  16238\n",
       "2   염창동            8126   20668            118  24  1296  316  16227\n",
       "3  우장산동            3116   19795            789  37   992  281   7147\n",
       "4  등촌1동            8891   13600            236  23   876  292  17753\n",
       "5  등촌3동            9503   17670             39  17   756  278  20336\n",
       "6  화곡6동            5653   14487            753  11   772  235  12040\n",
       "7  화곡1동            5208   20220           1328  39  2097  539  10810"
      ]
     },
     "execution_count": 45,
     "metadata": {},
     "output_type": "execute_result"
    }
   ],
   "source": [
    "dong_2 = pd.merge(df_3, df_dong_t, how = 'inner', on = 'index')\n",
    "dong_2 = dong_2.iloc[:,4:]\n",
    "dong_2"
   ]
  },
  {
   "cell_type": "code",
   "execution_count": 47,
   "id": "d1109c8e",
   "metadata": {},
   "outputs": [
    {
     "data": {
      "text/plain": [
       "6618.125"
      ]
     },
     "execution_count": 47,
     "metadata": {},
     "output_type": "execute_result"
    }
   ],
   "source": [
    "test2 = pd.merge(dong_2, df_dong[['행정동','단속건수']], how = 'inner', on = '행정동')\n",
    "test2['단속건수'].mean()"
   ]
  },
  {
   "cell_type": "code",
   "execution_count": 48,
   "id": "1eba9dad",
   "metadata": {},
   "outputs": [
    {
     "data": {
      "text/plain": [
       "1.3736746532210615"
      ]
     },
     "execution_count": 48,
     "metadata": {},
     "output_type": "execute_result"
    }
   ],
   "source": [
    "(test2['주차장 면수'] / test2['종사자수']).mean()"
   ]
  },
  {
   "cell_type": "code",
   "execution_count": 49,
   "id": "d3c81d5b",
   "metadata": {},
   "outputs": [
    {
     "data": {
      "text/html": [
       "<div>\n",
       "<style scoped>\n",
       "    .dataframe tbody tr th:only-of-type {\n",
       "        vertical-align: middle;\n",
       "    }\n",
       "\n",
       "    .dataframe tbody tr th {\n",
       "        vertical-align: top;\n",
       "    }\n",
       "\n",
       "    .dataframe thead th {\n",
       "        text-align: right;\n",
       "    }\n",
       "</style>\n",
       "<table border=\"1\" class=\"dataframe\">\n",
       "  <thead>\n",
       "    <tr style=\"text-align: right;\">\n",
       "      <th></th>\n",
       "      <th>행정동</th>\n",
       "      <th>건축물부설 일반건축물 면수</th>\n",
       "      <th>주차장 면수</th>\n",
       "      <th>건축물부설 일반주택 면수</th>\n",
       "      <th>특수</th>\n",
       "      <th>화물</th>\n",
       "      <th>승합</th>\n",
       "      <th>종사자수</th>\n",
       "    </tr>\n",
       "  </thead>\n",
       "  <tbody>\n",
       "    <tr>\n",
       "      <th>0</th>\n",
       "      <td>공항동</td>\n",
       "      <td>17010</td>\n",
       "      <td>25818</td>\n",
       "      <td>2068</td>\n",
       "      <td>59</td>\n",
       "      <td>1644</td>\n",
       "      <td>561</td>\n",
       "      <td>34394</td>\n",
       "    </tr>\n",
       "    <tr>\n",
       "      <th>1</th>\n",
       "      <td>발산1동</td>\n",
       "      <td>19047</td>\n",
       "      <td>29360</td>\n",
       "      <td>352</td>\n",
       "      <td>69</td>\n",
       "      <td>1686</td>\n",
       "      <td>578</td>\n",
       "      <td>32771</td>\n",
       "    </tr>\n",
       "  </tbody>\n",
       "</table>\n",
       "</div>"
      ],
      "text/plain": [
       "    행정동  건축물부설 일반건축물 면수  주차장 면수  건축물부설 일반주택 면수  특수    화물   승합   종사자수\n",
       "0   공항동           17010   25818           2068  59  1644  561  34394\n",
       "1  발산1동           19047   29360            352  69  1686  578  32771"
      ]
     },
     "execution_count": 49,
     "metadata": {},
     "output_type": "execute_result"
    }
   ],
   "source": [
    "dong_3 = pd.merge(df_4, df_dong_t, how = 'inner', on = 'index')\n",
    "dong_3 = dong_3.iloc[:,4:]\n",
    "dong_3"
   ]
  },
  {
   "cell_type": "code",
   "execution_count": 50,
   "id": "7b43ffa1",
   "metadata": {},
   "outputs": [
    {
     "data": {
      "text/plain": [
       "31112.0"
      ]
     },
     "execution_count": 50,
     "metadata": {},
     "output_type": "execute_result"
    }
   ],
   "source": [
    "test3 = pd.merge(dong_3, df_dong[['행정동','단속건수']], how = 'inner', on = '행정동')\n",
    "test3['단속건수'].median()"
   ]
  },
  {
   "cell_type": "code",
   "execution_count": 51,
   "id": "22dcbb5f",
   "metadata": {},
   "outputs": [
    {
     "data": {
      "text/html": [
       "<div>\n",
       "<style scoped>\n",
       "    .dataframe tbody tr th:only-of-type {\n",
       "        vertical-align: middle;\n",
       "    }\n",
       "\n",
       "    .dataframe tbody tr th {\n",
       "        vertical-align: top;\n",
       "    }\n",
       "\n",
       "    .dataframe thead th {\n",
       "        text-align: right;\n",
       "    }\n",
       "</style>\n",
       "<table border=\"1\" class=\"dataframe\">\n",
       "  <thead>\n",
       "    <tr style=\"text-align: right;\">\n",
       "      <th></th>\n",
       "      <th>행정동</th>\n",
       "      <th>건축물부설 일반건축물 면수</th>\n",
       "      <th>주차장 면수</th>\n",
       "      <th>건축물부설 일반주택 면수</th>\n",
       "      <th>특수</th>\n",
       "      <th>화물</th>\n",
       "      <th>승합</th>\n",
       "      <th>종사자수</th>\n",
       "      <th>단속건수</th>\n",
       "    </tr>\n",
       "  </thead>\n",
       "  <tbody>\n",
       "    <tr>\n",
       "      <th>0</th>\n",
       "      <td>공항동</td>\n",
       "      <td>17010</td>\n",
       "      <td>25818</td>\n",
       "      <td>2068</td>\n",
       "      <td>59</td>\n",
       "      <td>1644</td>\n",
       "      <td>561</td>\n",
       "      <td>34394</td>\n",
       "      <td>41748</td>\n",
       "    </tr>\n",
       "    <tr>\n",
       "      <th>1</th>\n",
       "      <td>발산1동</td>\n",
       "      <td>19047</td>\n",
       "      <td>29360</td>\n",
       "      <td>352</td>\n",
       "      <td>69</td>\n",
       "      <td>1686</td>\n",
       "      <td>578</td>\n",
       "      <td>32771</td>\n",
       "      <td>20476</td>\n",
       "    </tr>\n",
       "  </tbody>\n",
       "</table>\n",
       "</div>"
      ],
      "text/plain": [
       "    행정동  건축물부설 일반건축물 면수  주차장 면수  건축물부설 일반주택 면수  특수    화물   승합   종사자수   단속건수\n",
       "0   공항동           17010   25818           2068  59  1644  561  34394  41748\n",
       "1  발산1동           19047   29360            352  69  1686  578  32771  20476"
      ]
     },
     "execution_count": 51,
     "metadata": {},
     "output_type": "execute_result"
    }
   ],
   "source": [
    "test3"
   ]
  },
  {
   "cell_type": "code",
   "execution_count": 52,
   "id": "ecb3c469",
   "metadata": {},
   "outputs": [
    {
     "data": {
      "text/plain": [
       "0.8232841271181861"
      ]
     },
     "execution_count": 52,
     "metadata": {},
     "output_type": "execute_result"
    }
   ],
   "source": [
    "(test3['주차장 면수'] / test3['종사자수']).mean()"
   ]
  },
  {
   "cell_type": "code",
   "execution_count": null,
   "id": "a4577265",
   "metadata": {},
   "outputs": [],
   "source": []
  },
  {
   "cell_type": "code",
   "execution_count": 81,
   "id": "59524a4d",
   "metadata": {},
   "outputs": [
    {
     "data": {
      "text/plain": [
       "4515.333333333333"
      ]
     },
     "execution_count": 81,
     "metadata": {},
     "output_type": "execute_result"
    }
   ],
   "source": [
    "test0['단속건수'].mean()"
   ]
  },
  {
   "cell_type": "code",
   "execution_count": 54,
   "id": "600e28f1",
   "metadata": {},
   "outputs": [
    {
     "data": {
      "text/plain": [
       "16889.0"
      ]
     },
     "execution_count": 54,
     "metadata": {},
     "output_type": "execute_result"
    }
   ],
   "source": [
    "test1['단속건수'].mean()"
   ]
  },
  {
   "cell_type": "code",
   "execution_count": 55,
   "id": "c93272f3",
   "metadata": {},
   "outputs": [
    {
     "data": {
      "text/plain": [
       "6618.125"
      ]
     },
     "execution_count": 55,
     "metadata": {},
     "output_type": "execute_result"
    }
   ],
   "source": [
    "test2['단속건수'].mean()"
   ]
  },
  {
   "cell_type": "code",
   "execution_count": 56,
   "id": "fbde95ff",
   "metadata": {},
   "outputs": [
    {
     "data": {
      "text/plain": [
       "31112.0"
      ]
     },
     "execution_count": 56,
     "metadata": {},
     "output_type": "execute_result"
    }
   ],
   "source": [
    "test3['단속건수'].mean()"
   ]
  },
  {
   "cell_type": "code",
   "execution_count": null,
   "id": "f8f8fc71",
   "metadata": {},
   "outputs": [],
   "source": []
  },
  {
   "cell_type": "code",
   "execution_count": 57,
   "id": "c5a9494d",
   "metadata": {},
   "outputs": [],
   "source": [
    "# 종사자수 대비 주차장면수"
   ]
  },
  {
   "cell_type": "code",
   "execution_count": 58,
   "id": "9b53a742",
   "metadata": {},
   "outputs": [],
   "source": [
    "# 단속 건수 1,3 클러스터이 높았고,  0,2 클러스터가 적었다 (상대적으로)"
   ]
  },
  {
   "cell_type": "code",
   "execution_count": 63,
   "id": "a23a313d",
   "metadata": {},
   "outputs": [
    {
     "data": {
      "text/plain": [
       "1.935186925442348"
      ]
     },
     "execution_count": 63,
     "metadata": {},
     "output_type": "execute_result"
    }
   ],
   "source": [
    "(test0['주차장 면수'] / test0['종사자수']).mean() "
   ]
  },
  {
   "cell_type": "code",
   "execution_count": 64,
   "id": "2b1c5642",
   "metadata": {},
   "outputs": [
    {
     "data": {
      "text/plain": [
       "0.7010728034420289"
      ]
     },
     "execution_count": 64,
     "metadata": {},
     "output_type": "execute_result"
    }
   ],
   "source": [
    "(test1['주차장 면수'] / test1['종사자수']).mean()"
   ]
  },
  {
   "cell_type": "code",
   "execution_count": 65,
   "id": "ce1eab1c",
   "metadata": {},
   "outputs": [
    {
     "data": {
      "text/plain": [
       "1.3736746532210615"
      ]
     },
     "execution_count": 65,
     "metadata": {},
     "output_type": "execute_result"
    }
   ],
   "source": [
    "(test2['주차장 면수'] / test2['종사자수']).mean()"
   ]
  },
  {
   "cell_type": "code",
   "execution_count": 66,
   "id": "8c72ef1d",
   "metadata": {},
   "outputs": [
    {
     "data": {
      "text/plain": [
       "0.8232841271181861"
      ]
     },
     "execution_count": 66,
     "metadata": {},
     "output_type": "execute_result"
    }
   ],
   "source": [
    "(test3['주차장 면수'] / test3['종사자수']).mean()"
   ]
  },
  {
   "cell_type": "markdown",
   "id": "ee0e9670",
   "metadata": {},
   "source": [
    "## -----------------------------------------------------------------------------------------------------"
   ]
  },
  {
   "cell_type": "code",
   "execution_count": 82,
   "id": "8fddd9fe",
   "metadata": {},
   "outputs": [
    {
     "data": {
      "text/plain": [
       "13.666666666666666"
      ]
     },
     "execution_count": 82,
     "metadata": {},
     "output_type": "execute_result"
    }
   ],
   "source": [
    "test0['특수'].mean()"
   ]
  },
  {
   "cell_type": "code",
   "execution_count": 68,
   "id": "f191111a",
   "metadata": {},
   "outputs": [
    {
     "data": {
      "text/plain": [
       "31.0"
      ]
     },
     "execution_count": 68,
     "metadata": {},
     "output_type": "execute_result"
    }
   ],
   "source": [
    "test1['특수'].mean()"
   ]
  },
  {
   "cell_type": "code",
   "execution_count": 69,
   "id": "3bdfdec2",
   "metadata": {},
   "outputs": [
    {
     "data": {
      "text/plain": [
       "26.5"
      ]
     },
     "execution_count": 69,
     "metadata": {},
     "output_type": "execute_result"
    }
   ],
   "source": [
    "test2['특수'].mean()"
   ]
  },
  {
   "cell_type": "code",
   "execution_count": 70,
   "id": "5289b07b",
   "metadata": {},
   "outputs": [
    {
     "data": {
      "text/plain": [
       "64.0"
      ]
     },
     "execution_count": 70,
     "metadata": {},
     "output_type": "execute_result"
    }
   ],
   "source": [
    "test3['특수'].mean()"
   ]
  },
  {
   "cell_type": "code",
   "execution_count": null,
   "id": "8ec713b2",
   "metadata": {},
   "outputs": [],
   "source": []
  },
  {
   "cell_type": "code",
   "execution_count": 77,
   "id": "179d3f11",
   "metadata": {},
   "outputs": [
    {
     "data": {
      "text/plain": [
       "638.6666666666666"
      ]
     },
     "execution_count": 77,
     "metadata": {},
     "output_type": "execute_result"
    }
   ],
   "source": [
    "test0['화물'].mean()"
   ]
  },
  {
   "cell_type": "code",
   "execution_count": 72,
   "id": "1591d1d4",
   "metadata": {},
   "outputs": [
    {
     "data": {
      "text/plain": [
       "2281.0"
      ]
     },
     "execution_count": 72,
     "metadata": {},
     "output_type": "execute_result"
    }
   ],
   "source": [
    "test1['화물'].mean()"
   ]
  },
  {
   "cell_type": "code",
   "execution_count": 73,
   "id": "6e43abdc",
   "metadata": {},
   "outputs": [
    {
     "data": {
      "text/plain": [
       "1181.375"
      ]
     },
     "execution_count": 73,
     "metadata": {},
     "output_type": "execute_result"
    }
   ],
   "source": [
    "test2['화물'].mean()"
   ]
  },
  {
   "cell_type": "code",
   "execution_count": 74,
   "id": "f1c5d774",
   "metadata": {},
   "outputs": [
    {
     "data": {
      "text/plain": [
       "1665.0"
      ]
     },
     "execution_count": 74,
     "metadata": {},
     "output_type": "execute_result"
    }
   ],
   "source": [
    "test3['화물'].mean()"
   ]
  },
  {
   "cell_type": "code",
   "execution_count": null,
   "id": "49d7ef0e",
   "metadata": {},
   "outputs": [],
   "source": []
  },
  {
   "cell_type": "code",
   "execution_count": 78,
   "id": "a10dd9a4",
   "metadata": {},
   "outputs": [
    {
     "data": {
      "text/plain": [
       "205.11111111111111"
      ]
     },
     "execution_count": 78,
     "metadata": {},
     "output_type": "execute_result"
    }
   ],
   "source": [
    "test0['승합'].mean()"
   ]
  },
  {
   "cell_type": "code",
   "execution_count": 76,
   "id": "a79150bb",
   "metadata": {},
   "outputs": [
    {
     "data": {
      "text/plain": [
       "844.0"
      ]
     },
     "execution_count": 76,
     "metadata": {},
     "output_type": "execute_result"
    }
   ],
   "source": [
    "test1['승합'].mean()"
   ]
  },
  {
   "cell_type": "code",
   "execution_count": 79,
   "id": "9470dcb1",
   "metadata": {},
   "outputs": [
    {
     "data": {
      "text/plain": [
       "398.125"
      ]
     },
     "execution_count": 79,
     "metadata": {},
     "output_type": "execute_result"
    }
   ],
   "source": [
    "test2['승합'].mean()"
   ]
  },
  {
   "cell_type": "code",
   "execution_count": 80,
   "id": "f0115e50",
   "metadata": {},
   "outputs": [
    {
     "data": {
      "text/plain": [
       "569.5"
      ]
     },
     "execution_count": 80,
     "metadata": {},
     "output_type": "execute_result"
    }
   ],
   "source": [
    "test3['승합'].mean()"
   ]
  },
  {
   "cell_type": "code",
   "execution_count": null,
   "id": "cdad0b59",
   "metadata": {},
   "outputs": [],
   "source": []
  },
  {
   "cell_type": "code",
   "execution_count": null,
   "id": "58a3e76b",
   "metadata": {},
   "outputs": [],
   "source": []
  },
  {
   "cell_type": "markdown",
   "id": "aa8727c8",
   "metadata": {},
   "source": [
    "### 종사자수 대비 주차장면수\n",
    "- cluster = 0 -> 1.7355903517815015 \n",
    "- cluster = 1 -> 1.1723528470026265\n",
    "- cluster = 2 -> 1.3192779560565295\n",
    "- cluster = 3 -> 0.7010728034420289"
   ]
  },
  {
   "cell_type": "code",
   "execution_count": null,
   "id": "f27f0e0b",
   "metadata": {},
   "outputs": [],
   "source": []
  }
 ],
 "metadata": {
  "kernelspec": {
   "display_name": "Python 3 (ipykernel)",
   "language": "python",
   "name": "python3"
  },
  "language_info": {
   "codemirror_mode": {
    "name": "ipython",
    "version": 3
   },
   "file_extension": ".py",
   "mimetype": "text/x-python",
   "name": "python",
   "nbconvert_exporter": "python",
   "pygments_lexer": "ipython3",
   "version": "3.9.13"
  }
 },
 "nbformat": 4,
 "nbformat_minor": 5
}
